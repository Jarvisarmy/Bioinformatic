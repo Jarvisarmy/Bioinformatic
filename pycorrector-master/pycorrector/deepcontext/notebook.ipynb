{
 "cells": [
  {
   "cell_type": "markdown",
   "id": "7608c10e",
   "metadata": {},
   "source": [
    "# config"
   ]
  },
  {
   "cell_type": "code",
   "execution_count": 4,
   "id": "920440b3",
   "metadata": {},
   "outputs": [],
   "source": [
    "import os\n",
    "#pwd_path = os.path.abspath(os.path.dirname(__file__))\n",
    "pwd_path = os.path.abspath(os.path.dirname(os.path.abspath('')))\n",
    "cged_train_paths = [\n",
    "    os.path.join(pwd_path, '../data/cn/CGED/CGED18_HSK_TrainingSet.xml'),\n",
    "    os.path.join(pwd_path, '../data/cn/CGED/CGED17_HSK_TrainingSet.xml'),\n",
    "    os.path.join(pwd_path, '../data/cn/CGED/CGED16_HSK_TrainingSet.xml'),\n",
    "    # os.path.join(pwd_path, '../data/cn/CGED/sample_HSK_TrainingSet.xml'),\n",
    "]\n",
    "\n",
    "sighan_train_path = os.path.join(pwd_path, '../data/cn/sighan_2015/train.tsv')\n",
    "\n",
    "use_segment = True\n",
    "segment_type = 'char'\n",
    "dataset = 'sighan'\n",
    "\n",
    "output_dir = os.path.join(pwd_path, 'output')\n",
    "# Training data path.\n",
    "train_path = os.path.join(output_dir, 'train.txt')\n",
    "model_dir = os.path.join(output_dir, 'models')\n",
    "model_path = os.path.join(model_dir, 'model.pth')\n",
    "vocab_path = os.path.join(model_dir, 'vocab.txt')\n",
    "\n",
    "# nets\n",
    "word_embed_size = 200\n",
    "hidden_size = 200\n",
    "n_layers = 2\n",
    "dropout=0.0\n",
    "\n",
    "# train\n",
    "epochs = 20\n",
    "batch_size = 64\n",
    "min_freq = 1\n",
    "learning_rate = 1e-3\n",
    "\n",
    "if not os.path.exists(model_dir):\n",
    "    os.makedirs(model_dir)"
   ]
  },
  {
   "cell_type": "markdown",
   "id": "24b70df1",
   "metadata": {},
   "source": [
    "# preprocess"
   ]
  },
  {
   "cell_type": "code",
   "execution_count": 5,
   "id": "597f8c66",
   "metadata": {},
   "outputs": [
    {
     "ename": "FileNotFoundError",
     "evalue": "[Errno 2] No such file or directory: '/Users/jarviszhang/Desktop/bioinformatics/pycorrector-master/pycorrector/../data/cn/sighan_2015/train.tsv'",
     "output_type": "error",
     "traceback": [
      "\u001b[0;31m---------------------------------------------------------------------------\u001b[0m",
      "\u001b[0;31mFileNotFoundError\u001b[0m                         Traceback (most recent call last)",
      "\u001b[0;32m<ipython-input-5-e0aa74f92c19>\u001b[0m in \u001b[0;36m<module>\u001b[0;34m\u001b[0m\n\u001b[1;32m     48\u001b[0m     \u001b[0mdata_list\u001b[0m \u001b[0;34m=\u001b[0m \u001b[0;34m[\u001b[0m\u001b[0;34m]\u001b[0m\u001b[0;34m\u001b[0m\u001b[0;34m\u001b[0m\u001b[0m\n\u001b[1;32m     49\u001b[0m \u001b[0;32mif\u001b[0m \u001b[0mdataset\u001b[0m \u001b[0;34m==\u001b[0m \u001b[0;34m'sighan'\u001b[0m\u001b[0;34m:\u001b[0m\u001b[0;34m\u001b[0m\u001b[0;34m\u001b[0m\u001b[0m\n\u001b[0;32m---> 50\u001b[0;31m     \u001b[0mdata\u001b[0m \u001b[0;34m=\u001b[0m \u001b[0mget_data_file\u001b[0m\u001b[0;34m(\u001b[0m\u001b[0msighan_train_path\u001b[0m\u001b[0;34m,\u001b[0m \u001b[0muse_segment\u001b[0m\u001b[0;34m,\u001b[0m \u001b[0msegment_type\u001b[0m\u001b[0;34m)\u001b[0m\u001b[0;34m\u001b[0m\u001b[0;34m\u001b[0m\u001b[0m\n\u001b[0m\u001b[1;32m     51\u001b[0m     \u001b[0mdata_list\u001b[0m\u001b[0;34m.\u001b[0m\u001b[0mextend\u001b[0m\u001b[0;34m(\u001b[0m\u001b[0mdata\u001b[0m\u001b[0;34m)\u001b[0m\u001b[0;34m\u001b[0m\u001b[0;34m\u001b[0m\u001b[0m\n\u001b[1;32m     52\u001b[0m \u001b[0;32melse\u001b[0m\u001b[0;34m:\u001b[0m\u001b[0;34m\u001b[0m\u001b[0;34m\u001b[0m\u001b[0m\n",
      "\u001b[0;32m<ipython-input-5-e0aa74f92c19>\u001b[0m in \u001b[0;36mget_data_file\u001b[0;34m(path, use_segment, segment_type)\u001b[0m\n\u001b[1;32m     24\u001b[0m \u001b[0;32mdef\u001b[0m \u001b[0mget_data_file\u001b[0m\u001b[0;34m(\u001b[0m\u001b[0mpath\u001b[0m\u001b[0;34m,\u001b[0m \u001b[0muse_segment\u001b[0m\u001b[0;34m,\u001b[0m \u001b[0msegment_type\u001b[0m\u001b[0;34m)\u001b[0m\u001b[0;34m:\u001b[0m\u001b[0;34m\u001b[0m\u001b[0;34m\u001b[0m\u001b[0m\n\u001b[1;32m     25\u001b[0m     \u001b[0mdata_list\u001b[0m \u001b[0;34m=\u001b[0m \u001b[0;34m[\u001b[0m\u001b[0;34m]\u001b[0m\u001b[0;34m\u001b[0m\u001b[0;34m\u001b[0m\u001b[0m\n\u001b[0;32m---> 26\u001b[0;31m     \u001b[0;32mwith\u001b[0m \u001b[0mopen\u001b[0m\u001b[0;34m(\u001b[0m\u001b[0mpath\u001b[0m\u001b[0;34m,\u001b[0m \u001b[0;34m'r'\u001b[0m\u001b[0;34m,\u001b[0m \u001b[0mencoding\u001b[0m\u001b[0;34m=\u001b[0m\u001b[0;34m'utf-8'\u001b[0m\u001b[0;34m)\u001b[0m \u001b[0;32mas\u001b[0m \u001b[0mf\u001b[0m\u001b[0;34m:\u001b[0m\u001b[0;34m\u001b[0m\u001b[0;34m\u001b[0m\u001b[0m\n\u001b[0m\u001b[1;32m     27\u001b[0m         \u001b[0;32mfor\u001b[0m \u001b[0mline\u001b[0m \u001b[0;32min\u001b[0m \u001b[0mf\u001b[0m\u001b[0;34m:\u001b[0m\u001b[0;34m\u001b[0m\u001b[0;34m\u001b[0m\u001b[0m\n\u001b[1;32m     28\u001b[0m             \u001b[0mline\u001b[0m \u001b[0;34m=\u001b[0m \u001b[0mline\u001b[0m\u001b[0;34m.\u001b[0m\u001b[0mstrip\u001b[0m\u001b[0;34m(\u001b[0m\u001b[0;34m)\u001b[0m\u001b[0;34m\u001b[0m\u001b[0;34m\u001b[0m\u001b[0m\n",
      "\u001b[0;31mFileNotFoundError\u001b[0m: [Errno 2] No such file or directory: '/Users/jarviszhang/Desktop/bioinformatics/pycorrector-master/pycorrector/../data/cn/sighan_2015/train.tsv'"
     ]
    }
   ],
   "source": [
    "import os\n",
    "import sys\n",
    "from xml.dom import minidom\n",
    "\n",
    "sys.path.append(\"../..\")\n",
    "\n",
    "from pycorrector.utils.tokenizer import segment\n",
    "\n",
    "def parse_xml_file(path, use_segment, segment_type):\n",
    "    print('Parse data from %s' % path)\n",
    "    word_arr = []\n",
    "    dom_tree = minidom.parse(path)\n",
    "    docs = dom_tree.documentElement.getElementsByTagName('DOC')\n",
    "    for doc in docs:\n",
    "        # Input the text\n",
    "        text = doc.getElementsByTagName('CORRECTION')[0]. \\\n",
    "            childNodes[0].data.strip()\n",
    "        # Segment\n",
    "        # strip() method removes any leading (spaces at the beginning) and trailing (spaces at the end) characters (space is the default leading characters (space is the default leading character to remove)\n",
    "        word_seq = ' '.join(segment(text.strip(), cut_type=segment_type)) if use_segment else text.strip()\n",
    "        word_arr.append(word_seq)\n",
    "    return word_arr\n",
    "\n",
    "def get_data_file(path, use_segment, segment_type):\n",
    "    data_list = []\n",
    "    with open(path, 'r', encoding='utf-8') as f:\n",
    "        for line in f:\n",
    "            line = line.strip() \n",
    "            if line.startswith(\"#\"):\n",
    "                continue\n",
    "            parts = line.split(\"\\t\")\n",
    "            if len(parts) != 2:\n",
    "                continue\n",
    "            target = ' '.join(segment(parts[1].strip(), cut_type=segment_type)) if use_segment else parts[1].strip()\n",
    "            data_list.append(target)\n",
    "    return data_list\n",
    "\n",
    "def save_corpus_data(data_list, data_path):\n",
    "    dirname = os.path.dirname(data_path)\n",
    "    os.makedirs(dirname, exist_ok=True)\n",
    "    with open(data_path, 'w', encoding='utf-8') as f:\n",
    "        count = 0\n",
    "        for line in data_list:\n",
    "            f.write(line + '\\n')\n",
    "            count += 1\n",
    "        print(\"save line size:%d to %s\" % (count, data_path))\n",
    "\n",
    "    data_list = []\n",
    "if dataset == 'sighan':\n",
    "    data = get_data_file(sighan_train_path, use_segment, segment_type)\n",
    "    data_list.extend(data)\n",
    "else:\n",
    "    for path in cged_train_paths:\n",
    "        data_list.extend(parse_xml_file(path, use_segment, segment_type))\n",
    "# save data\n",
    "save_corpus_data(data_list, train_path)\n"
   ]
  },
  {
   "cell_type": "code",
   "execution_count": null,
   "id": "b20b2452",
   "metadata": {},
   "outputs": [],
   "source": []
  }
 ],
 "metadata": {
  "kernelspec": {
   "display_name": "Python 3",
   "language": "python",
   "name": "python3"
  },
  "language_info": {
   "codemirror_mode": {
    "name": "ipython",
    "version": 3
   },
   "file_extension": ".py",
   "mimetype": "text/x-python",
   "name": "python",
   "nbconvert_exporter": "python",
   "pygments_lexer": "ipython3",
   "version": "3.9.5"
  }
 },
 "nbformat": 4,
 "nbformat_minor": 5
}
